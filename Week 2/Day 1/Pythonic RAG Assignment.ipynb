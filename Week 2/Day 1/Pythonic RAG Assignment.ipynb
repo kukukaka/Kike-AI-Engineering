{
 "cells": [
  {
   "cell_type": "markdown",
   "metadata": {},
   "source": [
    "# Your First RAG Application\n",
    "\n",
    "In this notebook, we'll walk you through each of the components that are involved in a simple RAG application. \n",
    "\n",
    "We won't be leveraging any fancy tools, just the OpenAI Python SDK, Numpy, and some classic Python.\n",
    "\n",
    "> NOTE: This was done with Python 3.11.4."
   ]
  },
  {
   "cell_type": "markdown",
   "metadata": {},
   "source": [
    "## Table of Contents:\n",
    "\n",
    "- Task 1: Imports and Utilities\n",
    "- Task 2: Documents\n",
    "- Task 3: Embeddings and Vectors\n",
    "- Task 4: Prompts\n",
    "- Task 5: Retrieval Augmented Generation\n",
    "- Task 6: Visibility Tooling\n",
    "- Task 7: RAG Evaluation Using GPT-4"
   ]
  },
  {
   "cell_type": "markdown",
   "metadata": {},
   "source": [
    "Let's look at a rather complicated looking visual representation of a basic RAG application.\n",
    "\n",
    "<img src=\"https://i.imgur.com/PvlaIUO.png\" />"
   ]
  },
  {
   "cell_type": "markdown",
   "metadata": {},
   "source": [
    "## Task 1: Imports and Utility \n",
    "\n",
    "We're just doing some imports and enabling `async` to work within the Jupyter environment here, nothing too crazy!"
   ]
  },
  {
   "cell_type": "code",
   "execution_count": 1,
   "metadata": {},
   "outputs": [
    {
     "name": "stdout",
     "output_type": "stream",
     "text": [
      "Note: you may need to restart the kernel to use updated packages.\n"
     ]
    }
   ],
   "source": [
    "pip install -q -U numpy matplotlib plotly pandas scipy scikit-learn openai python-dotenv PyPDF2"
   ]
  },
  {
   "cell_type": "code",
   "execution_count": 2,
   "metadata": {},
   "outputs": [],
   "source": [
    "from aimakerspace.text_utils import TextFileLoader, CharacterTextSplitter\n",
    "from aimakerspace.vectordatabase import VectorDatabase\n",
    "import asyncio"
   ]
  },
  {
   "cell_type": "code",
   "execution_count": 3,
   "metadata": {},
   "outputs": [],
   "source": [
    "import nest_asyncio\n",
    "nest_asyncio.apply()"
   ]
  },
  {
   "cell_type": "markdown",
   "metadata": {},
   "source": [
    "## Task 2: Documents\n",
    "\n",
    "We'll be concerning ourselves with this part of the flow in the following section:\n",
    "\n",
    "<img src=\"https://i.imgur.com/jTm9gjk.png\" />"
   ]
  },
  {
   "cell_type": "markdown",
   "metadata": {},
   "source": [
    "### Loading Source Documents\n",
    "\n",
    "So, first things first, we need some documents to work with. \n",
    "\n",
    "While we could work directly with the `.txt` files (or whatever file-types you wanted to extend this to) we can instead do some batch processing of those documents at the beginning in order to store them in a more machine compatible format. \n",
    "\n",
    "In this case, we're going to parse our text file into a single document in memory.\n",
    "\n",
    "Let's look at the relevant bits of the `TextFileLoader` class:\n",
    "\n",
    "```python\n",
    "def load_file(self):\n",
    "        with open(self.path, \"r\", encoding=self.encoding) as f:\n",
    "            self.documents.append(f.read())\n",
    "```\n",
    "\n",
    "We're simply loading the document using the built in `open` method, and storing that output in our `self.documents` list.\n"
   ]
  },
  {
   "cell_type": "code",
   "execution_count": 30,
   "metadata": {},
   "outputs": [
    {
     "data": {
      "text/plain": [
       "3"
      ]
     },
     "execution_count": 30,
     "metadata": {},
     "output_type": "execute_result"
    }
   ],
   "source": [
    "text_loader = TextFileLoader(\"data/Tinybird\")\n",
    "documents = text_loader.load_documents()\n",
    "len(documents)"
   ]
  },
  {
   "cell_type": "code",
   "execution_count": 31,
   "metadata": {},
   "outputs": [
    {
     "name": "stdout",
     "output_type": "stream",
     "text": [
      "14/04/2024, 21:21 Materialized Views · Tinybird Docs\n",
      "https://www.tinybird.co/docs/publish/materialized-views 1/18Materialized Views\n",
      "Materialized Views are a great way to improve your endpoint performance.\n",
      "If you want low latency endpoints on top of millions or billions of rows of data, you often need to\n",
      "find ways to improve query performance. Complex queries run over large datasets are invariably\n",
      "slow, so you must find ways to recover speed you lose as data size increases. Of course, writing\n",
      "efficient SQL helps. But when you're processing billions of rows, even a simple SUM aggregation\n",
      "can bec\n"
     ]
    }
   ],
   "source": [
    "print(documents[0][:600])"
   ]
  },
  {
   "cell_type": "markdown",
   "metadata": {},
   "source": [
    "### Splitting Text Into Chunks\n",
    "\n",
    "As we can see, there is one document - and it's the entire text of Frakenstein\n",
    "\n",
    "We'll want to chunk the document into smaller parts so it's easier to pass the most relevant snippets to the LLM. \n",
    "\n",
    "There is no fixed way to split/chunk documents - and you'll need to rely on some intuition as well as knowing your data *very* well in order to build the most robust system.\n",
    "\n",
    "For this toy example, we'll just split blindly on length. \n",
    "\n",
    ">There's an opportunity to clear up some terminology here, for this course we will be stick to the following: \n",
    ">\n",
    ">- \"source documents\" : The `.txt`, `.pdf`, `.html`, ..., files that make up the files and information we start with in its raw format\n",
    ">- \"document(s)\" : single (or more) text object(s)\n",
    ">- \"corpus\" : the combination of all of our documents"
   ]
  },
  {
   "cell_type": "markdown",
   "metadata": {},
   "source": [
    "Let's take a peek visually at what we're doing here - and why it might be useful:\n",
    "\n",
    "<img src=\"https://i.imgur.com/rtM6Ci6.png\" />"
   ]
  },
  {
   "cell_type": "markdown",
   "metadata": {},
   "source": [
    "As you can see (though it's not specifically true in this toy example) the idea of splitting documents is to break them into managable sized chunks that retain the most relevant local context."
   ]
  },
  {
   "cell_type": "code",
   "execution_count": 32,
   "metadata": {},
   "outputs": [
    {
     "data": {
      "text/plain": [
       "51"
      ]
     },
     "execution_count": 32,
     "metadata": {},
     "output_type": "execute_result"
    }
   ],
   "source": [
    "text_splitter = CharacterTextSplitter()\n",
    "split_documents = text_splitter.split_texts(documents)\n",
    "len(split_documents)"
   ]
  },
  {
   "cell_type": "markdown",
   "metadata": {},
   "source": [
    "Let's take a look at some of the documents we've managed to split."
   ]
  },
  {
   "cell_type": "code",
   "execution_count": 33,
   "metadata": {},
   "outputs": [
    {
     "data": {
      "text/plain": [
       "[\"14/04/2024, 21:21 Materialized Views · Tinybird Docs\\nhttps://www.tinybird.co/docs/publish/materialized-views 1/18Materialized Views\\nMaterialized Views are a great way to improve your endpoint performance.\\nIf you want low latency endpoints on top of millions or billions of rows of data, you often need to\\nfind ways to improve query performance. Complex queries run over large datasets are invariably\\nslow, so you must find ways to recover speed you lose as data size increases. Of course, writing\\nefficient SQL helps. But when you're processing billions of rows, even a simple SUM aggregation\\ncan become unbearably slow.\\nOne such way to improve speed is to use Materialized Views.\\nThe example on this page shows you how to create Materialized Views in Tinybird, using the\\nUI and the CLI, to improve endpoint performance by over 50X.\\nDirectly below, you can read a bit more about why and when to use Materialized Views, or skip\\nstraight to the guide.\\nBefore you get started creating MVs, we strongly r\"]"
      ]
     },
     "execution_count": 33,
     "metadata": {},
     "output_type": "execute_result"
    }
   ],
   "source": [
    "split_documents[0:1]"
   ]
  },
  {
   "cell_type": "markdown",
   "metadata": {},
   "source": [
    "## Task 3: Embeddings and Vectors\n",
    "\n",
    "Next, we have to convert our corpus into a \"machine readable\" format. \n",
    "\n",
    "Loosely, this means turning the text into numbers. \n",
    "\n",
    "There are plenty of resources that talk about this process in great detail - I'll leave this [blog](https://txt.cohere.com/sentence-word-embeddings/) from Cohere.AI as a resource if you want to deep dive a bit. \n",
    "\n",
    "Today, we're going to talk about the actual process of creating, and then storing, these embeddings, and how we can leverage that to intelligently add context to our queries."
   ]
  },
  {
   "cell_type": "markdown",
   "metadata": {},
   "source": [
    "While this is all baked into 1 call - let's look at some of the code that powers this process:\n",
    "\n",
    "Let's look at our `VectorDatabase().__init__()`:\n",
    "\n",
    "```python\n",
    "def __init__(self, embedding_model: EmbeddingModel = None):\n",
    "        self.vectors = defaultdict(np.array)\n",
    "        self.embedding_model = embedding_model or EmbeddingModel()\n",
    "```\n",
    "\n",
    "As you can see - our vectors are merely stored as a dictionary of `np.array` objects.\n",
    "\n",
    "Secondly, our `VectorDatabase()` has a default `EmbeddingModel()` which is a wrapper for OpenAI's `text-embedding-3-small` model. \n",
    "\n",
    "> **Quick Info About `text-embedding-3-small`**:\n",
    "> - It has a context window of **8191** tokens\n",
    "> - It returns vectors with dimension **1536**"
   ]
  },
  {
   "cell_type": "markdown",
   "metadata": {},
   "source": [
    "#### ❓QUESTION:\n",
    "\n",
    "Though 1536 is the default dimension of `text-embedding-3-small`, you can pass a dimension parameter and shorten the vector - what method does OpenAI use to achieve this shortening?\n",
    "\n",
    "Truncation"
   ]
  },
  {
   "cell_type": "code",
   "execution_count": 34,
   "metadata": {},
   "outputs": [],
   "source": [
    "import os\n",
    "import openai\n",
    "from getpass import getpass\n",
    "\n",
    "openai.api_key = getpass(\"OpenAI API Key: \")\n",
    "os.environ[\"OPENAI_API_KEY\"] = openai.api_key"
   ]
  },
  {
   "cell_type": "markdown",
   "metadata": {},
   "source": [
    "We can call the `async_get_embeddings` method of our `EmbeddingModel()` on a list of `str` and receive a list of `float` back!\n",
    "\n",
    "```python\n",
    "async def async_get_embeddings(self, list_of_text: List[str]) -> List[List[float]]:\n",
    "        return await aget_embeddings(\n",
    "            list_of_text=list_of_text, engine=self.embeddings_model_name\n",
    "        )\n",
    "```"
   ]
  },
  {
   "cell_type": "markdown",
   "metadata": {},
   "source": [
    "We cast those to `np.array` when we build our `VectorDatabase()`:\n",
    "\n",
    "```python\n",
    "async def abuild_from_list(self, list_of_text: List[str]) -> \"VectorDatabase\":\n",
    "        embeddings = await self.embedding_model.async_get_embeddings(list_of_text)\n",
    "        for text, embedding in zip(list_of_text, embeddings):\n",
    "            self.insert(text, np.array(embedding))\n",
    "        return self\n",
    "```\n",
    "\n",
    "And that's all we need to do!"
   ]
  },
  {
   "cell_type": "code",
   "execution_count": 35,
   "metadata": {},
   "outputs": [],
   "source": [
    "vector_db = VectorDatabase()\n",
    "vector_db = asyncio.run(vector_db.abuild_from_list(split_documents))"
   ]
  },
  {
   "cell_type": "markdown",
   "metadata": {},
   "source": [
    "#### ❓QUESTION:\n",
    "\n",
    "What advantage does an async implementation provide for us?\n",
    "\n",
    "Non-blocking operation"
   ]
  },
  {
   "cell_type": "markdown",
   "metadata": {},
   "source": [
    "So, to review what we've done so far in natural language:\n",
    "\n",
    "1. We load source documents\n",
    "2. We split those source documents into smaller chunks (documents)\n",
    "3. We send each of those documents to the `text-embedding-3-small` OpenAI API endpoint\n",
    "4. We store each of the text representations with the vector representations as keys/values in a dictionary"
   ]
  },
  {
   "cell_type": "markdown",
   "metadata": {},
   "source": [
    "### Semantic Similarity\n",
    "\n",
    "The next step is to be able to query our `VectorDatabase()` with a `str` and have it return to us vectors and text that is most relevant from our corpus. \n",
    "\n",
    "We're going to use the following process to achieve this in our toy example:\n",
    "\n",
    "1. We need to embed our query with the same `EmbeddingModel()` as we used to construct our `VectorDatabase()`\n",
    "2. We loop through every vector in our `VectorDatabase()` and use a distance measure to compare how related they are\n",
    "3. We return a list of the top `k` closest vectors, with their text representations\n",
    "\n",
    "There's some very heavy optimization that can be done at each of these steps - but let's just focus on the basic pattern in this notebook.\n",
    "\n",
    "> We are using [cosine similarity](https://www.engati.com/glossary/cosine-similarity) as a distance metric in this example - but there are many many distance metrics you could use - like [these](https://flavien-vidal.medium.com/similarity-distances-for-natural-language-processing-16f63cd5ba55)\n",
    "\n",
    "> We are using a rather inefficient way of calculating relative distance between the query vector and all other vectors - there are more advanced approaches that are much more efficient, like [ANN](https://towardsdatascience.com/comprehensive-guide-to-approximate-nearest-neighbors-algorithms-8b94f057d6b6)"
   ]
  },
  {
   "cell_type": "code",
   "execution_count": 36,
   "metadata": {},
   "outputs": [
    {
     "data": {
      "text/plain": [
       "[(\"query\\nprocessed 5.4 MB of data and took, on average, 40ms to run (which is already pretty fast... this\\nis a simple use case).\\n 14/04/2024, 21:21 Materialized Views · Tinybird Docs\\nhttps://www.tinybird.co/docs/publish/materialized-views 9/18With the Materialized View, we get the exact same results, but process only 140kB of data \\x0040x\\nsmaller) in an average of 20 ms. In other words, twice as fast at a fraction of the cost. What's\\nnot to love?\\nPointing the endpoint at the new node\\nNow that we've seen how much the performance of the endpoint query has improved by using a\\nMaterialized View, we can easily change which node the endpoint uses. Just select the node\\ndropdown, and choose the new node we created querying the Materialized View. 14/04/2024, 21:21 Materialized Views · Tinybird Docs\\nhttps://www.tinybird.co/docs/publish/materialized-views 10/18\\nThis way, we improve the endpoint performance while retaining the original endpoint URL, so\\napplications which call that endpoint will see an i\",\n",
       "  0.5477033985691523),\n",
       " (\"ndpoint performance by over 50X.\\nDirectly below, you can read a bit more about why and when to use Materialized Views, or skip\\nstraight to the guide.\\nBefore you get started creating MVs, we strongly recommend that you take some time\\nto read through how they work in Tinybird, since Tinybird takes a unique approach to\\nmaterialization that is different than most databases you may have used.\\nWhy use Materialized Views?\\nWhen you're working in real-time, speed is everything. Queries that try to aggregate or filter\\nover large datasets are doomed to suffer unacceptable levels of latency.\\nMaterialized Views give you a way to pre-aggregate and pre-filter large Data Sources\\nincrementally, adding simple logic using SQL to produce a more relevant Data Source with\\nsignificantly fewer rows.\\nPut simply, Materialized Views shift computational load from query time to ingestion time, so\\nyour endpoints stay fast.\\nWhen should I use Materialized Views?\\nMaterialized Views are used to accomplish 2 main goals:\",\n",
       "  0.4491475092941505),\n",
       " (\" partial results. Every 10 minutes or so, a\\nbackground process merges the appended partial results and saves them in the Materialized\\nView.\\nSince we are processing data in real-time, we can't wait 10 minutes for the background process\\nto complete. To account for this, we simply reaggregate in the endpoint query using the -merge\\ncombinator. In this example, we use an avg aggregation, so we need to use avgMerge to\\ncompact the results in the Materialized View. 14/04/2024, 21:21 Materialized Views · Tinybird Docs\\nhttps://www.tinybird.co/docs/publish/materialized-views 8/18\\nWhen you run your modified query, you should get the same results as you got when you ran the\\nfinal node against the original Data Source.\\nThis time, however, the performance has improved dramatically. The original endpoint query\\nprocessed 5.4 MB of data and took, on average, 40ms to run (which is already pretty fast... this\\nis a simple use case).\\n 14/04/2024, 21:21 Materialized Views · Tinybird Docs\\nhttps://www.tinybird\",\n",
       "  0.434920530669759)]"
      ]
     },
     "execution_count": 36,
     "metadata": {},
     "output_type": "execute_result"
    }
   ],
   "source": [
    "vector_db.search_by_text(\"Improve endpoint performance\", k=3)"
   ]
  },
  {
   "cell_type": "markdown",
   "metadata": {},
   "source": [
    "## Task 4: Prompts\n",
    "\n",
    "In the following section, we'll be looking at the role of prompts - and how they help us to guide our application in the right direction.\n",
    "\n",
    "In this notebook, we're going to rely on the idea of \"zero-shot in-context learning\".\n",
    "\n",
    "This is a lot of words to say: \"We will ask it to perform our desired task in the prompt, and provide no examples.\""
   ]
  },
  {
   "cell_type": "markdown",
   "metadata": {},
   "source": [
    "### XYZRolePrompt\n",
    "\n",
    "Before we do that, let's stop and think a bit about how OpenAI's chat models work. \n",
    "\n",
    "We know they have roles - as is indicated in the following API [documentation](https://platform.openai.com/docs/api-reference/chat/create#chat/create-messages)\n",
    "\n",
    "There are three roles, and they function as follows (taken directly from [OpenAI](https://platform.openai.com/docs/guides/gpt/chat-completions-api)): \n",
    "\n",
    "- `{\"role\" : \"system\"}` : The system message helps set the behavior of the assistant. For example, you can modify the personality of the assistant or provide specific instructions about how it should behave throughout the conversation. However note that the system message is optional and the model’s behavior without a system message is likely to be similar to using a generic message such as \"You are a helpful assistant.\"\n",
    "- `{\"role\" : \"user\"}` : The user messages provide requests or comments for the assistant to respond to.\n",
    "- `{\"role\" : \"assistant\"}` : Assistant messages store previous assistant responses, but can also be written by you to give examples of desired behavior.\n",
    "\n",
    "The main idea is this: \n",
    "\n",
    "1. You start with a system message that outlines how the LLM should respond, what kind of behaviours you can expect from it, and more\n",
    "2. Then, you can provide a few examples in the form of \"assistant\"/\"user\" pairs\n",
    "3. Then, you prompt the model with the true \"user\" message.\n",
    "\n",
    "In this example, we'll be forgoing the 2nd step for simplicities sake."
   ]
  },
  {
   "cell_type": "markdown",
   "metadata": {},
   "source": [
    "#### Utility Functions\n",
    "\n",
    "You'll notice that we're using some utility functions from the `aimakerspace` module - let's take a peek at these and see what they're doing!"
   ]
  },
  {
   "cell_type": "markdown",
   "metadata": {},
   "source": [
    "##### XYZRolePrompt"
   ]
  },
  {
   "cell_type": "markdown",
   "metadata": {},
   "source": [
    "Here we have our `system`, `user`, and `assistant` role prompts. \n",
    "\n",
    "Let's take a peek at what they look like:\n",
    "\n",
    "```python\n",
    "class BasePrompt:\n",
    "    def __init__(self, prompt):\n",
    "        \"\"\"\n",
    "        Initializes the BasePrompt object with a prompt template.\n",
    "\n",
    "        :param prompt: A string that can contain placeholders within curly braces\n",
    "        \"\"\"\n",
    "        self.prompt = prompt\n",
    "        self._pattern = re.compile(r\"\\{([^}]+)\\}\")\n",
    "\n",
    "    def format_prompt(self, **kwargs):\n",
    "        \"\"\"\n",
    "        Formats the prompt string using the keyword arguments provided.\n",
    "\n",
    "        :param kwargs: The values to substitute into the prompt string\n",
    "        :return: The formatted prompt string\n",
    "        \"\"\"\n",
    "        matches = self._pattern.findall(self.prompt)\n",
    "        return self.prompt.format(**{match: kwargs.get(match, \"\") for match in matches})\n",
    "\n",
    "    def get_input_variables(self):\n",
    "        \"\"\"\n",
    "        Gets the list of input variable names from the prompt string.\n",
    "\n",
    "        :return: List of input variable names\n",
    "        \"\"\"\n",
    "        return self._pattern.findall(self.prompt)\n",
    "```\n",
    "\n",
    "Then we have our `RolePrompt` which laser focuses us on the role pattern found in most API endpoints for LLMs.\n",
    "\n",
    "```python\n",
    "class RolePrompt(BasePrompt):\n",
    "    def __init__(self, prompt, role: str):\n",
    "        \"\"\"\n",
    "        Initializes the RolePrompt object with a prompt template and a role.\n",
    "\n",
    "        :param prompt: A string that can contain placeholders within curly braces\n",
    "        :param role: The role for the message ('system', 'user', or 'assistant')\n",
    "        \"\"\"\n",
    "        super().__init__(prompt)\n",
    "        self.role = role\n",
    "\n",
    "    def create_message(self, **kwargs):\n",
    "        \"\"\"\n",
    "        Creates a message dictionary with a role and a formatted message.\n",
    "\n",
    "        :param kwargs: The values to substitute into the prompt string\n",
    "        :return: Dictionary containing the role and the formatted message\n",
    "        \"\"\"\n",
    "        return {\"role\": self.role, \"content\": self.format_prompt(**kwargs)}\n",
    "```\n",
    "\n",
    "We'll look at how the `SystemRolePrompt` is constructed to get a better idea of how that extension works:\n",
    "\n",
    "```python\n",
    "class SystemRolePrompt(RolePrompt):\n",
    "    def __init__(self, prompt: str):\n",
    "        super().__init__(prompt, \"system\")\n",
    "```\n",
    "\n",
    "That pattern is repeated for our `UserRolePrompt` and our `AssistantRolePrompt` as well."
   ]
  },
  {
   "cell_type": "markdown",
   "metadata": {},
   "source": [
    "##### ChatOpenAI"
   ]
  },
  {
   "cell_type": "markdown",
   "metadata": {},
   "source": [
    "Next we have our model, which is converted to a format analagous to libraries like LangChain and LlamaIndex.\n",
    "\n",
    "Let's take a peek at how that is constructed:\n",
    "\n",
    "```python\n",
    "class ChatOpenAI:\n",
    "    def __init__(self, model_name: str = \"gpt-3.5-turbo\"):\n",
    "        self.model_name = model_name\n",
    "        self.openai_api_key = os.getenv(\"OPENAI_API_KEY\")\n",
    "        if self.openai_api_key is None:\n",
    "            raise ValueError(\"OPENAI_API_KEY is not set\")\n",
    "\n",
    "    def run(self, messages, text_only: bool = True):\n",
    "        if not isinstance(messages, list):\n",
    "            raise ValueError(\"messages must be a list\")\n",
    "\n",
    "        openai.api_key = self.openai_api_key\n",
    "        response = openai.ChatCompletion.create(\n",
    "            model=self.model_name, messages=messages\n",
    "        )\n",
    "\n",
    "        if text_only:\n",
    "            return response.choices[0].message.content\n",
    "\n",
    "        return response\n",
    "```"
   ]
  },
  {
   "cell_type": "markdown",
   "metadata": {},
   "source": [
    "#### ❓QUESTION:\n",
    "\n",
    "How could we ensure our LLM always responded the same way to our inputs?\n",
    "It is not possible to assure determinist output, even if randomness can be reduced with good model design and better examples CoT or input normalization."
   ]
  },
  {
   "cell_type": "markdown",
   "metadata": {},
   "source": [
    "### Creating and Prompting OpenAI's `gpt-3.5-turbo`!\n",
    "\n",
    "Let's tie all these together and use it to prompt `gpt-3.5-turbo`!"
   ]
  },
  {
   "cell_type": "code",
   "execution_count": 37,
   "metadata": {},
   "outputs": [],
   "source": [
    "from aimakerspace.openai_utils.prompts import (\n",
    "    UserRolePrompt,\n",
    "    SystemRolePrompt,\n",
    "    AssistantRolePrompt,\n",
    ")\n",
    "\n",
    "from aimakerspace.openai_utils.chatmodel import ChatOpenAI\n",
    "\n",
    "chat_openai = ChatOpenAI()\n",
    "user_prompt_template = \"{content}\"\n",
    "user_role_prompt = UserRolePrompt(user_prompt_template)\n",
    "system_prompt_template = (\n",
    "    \"You are an expert in {expertise}, you always answer in a kind way.\"\n",
    ")\n",
    "system_role_prompt = SystemRolePrompt(system_prompt_template)\n",
    "\n",
    "messages = [\n",
    "    user_role_prompt.create_message(\n",
    "        content=\"What is the best way to write a loop?\"\n",
    "    ),\n",
    "    system_role_prompt.create_message(expertise=\"Python\"),\n",
    "]\n",
    "\n",
    "response = chat_openai.run(messages)"
   ]
  },
  {
   "cell_type": "code",
   "execution_count": 39,
   "metadata": {},
   "outputs": [
    {
     "name": "stdout",
     "output_type": "stream",
     "text": [
      "The best way to write a loop depends on the specific task you are trying to accomplish and the programming language you are using. In Python, one of the most common and efficient ways to write a loop is by using a for loop. \n",
      "\n",
      "Here's an example of a simple for loop in Python:\n",
      "\n",
      "```python\n",
      "for i in range(5):\n",
      "    print(i)\n",
      "```\n",
      "\n",
      "This loop will iterate five times, printing the value of `i` each time. \n",
      "\n",
      "When writing a loop, it's important to consider the logic and structure of your code to ensure that it is efficient, readable, and maintainable. You can also use while loops, list comprehensions, and other loop constructs depending on your specific needs.\n"
     ]
    }
   ],
   "source": [
    "print(response)"
   ]
  },
  {
   "cell_type": "markdown",
   "metadata": {},
   "source": [
    "## Task 5: Retrieval Augmented Generation\n",
    "\n",
    "Now we can create a RAG prompt - which will help our system behave in a way that makes sense!\n",
    "\n",
    "There is much you could do here, many tweaks and improvements to be made!"
   ]
  },
  {
   "cell_type": "code",
   "execution_count": 40,
   "metadata": {},
   "outputs": [],
   "source": [
    "RAG_PROMPT_TEMPLATE = \"\"\" \\\n",
    "Use the provided context to answer the user's query. \n",
    "\n",
    "You may not answer the user's query unless there is specific context in the following text.\n",
    "\n",
    "If you do not know the answer, or cannot answer, please respond with \"I don't know\".\n",
    "\"\"\"\n",
    "\n",
    "rag_prompt = SystemRolePrompt(RAG_PROMPT_TEMPLATE)\n",
    "\n",
    "USER_PROMPT_TEMPLATE = \"\"\" \\\n",
    "Context:\n",
    "{context}\n",
    "\n",
    "User Query:\n",
    "{user_query}\n",
    "\"\"\"\n",
    "\n",
    "\n",
    "user_prompt = UserRolePrompt(USER_PROMPT_TEMPLATE)\n",
    "\n",
    "class RetrievalAugmentedQAPipeline:\n",
    "    def __init__(self, llm: ChatOpenAI(), vector_db_retriever: VectorDatabase) -> None:\n",
    "        self.llm = llm\n",
    "        self.vector_db_retriever = vector_db_retriever\n",
    "\n",
    "    def run_pipeline(self, user_query: str) -> str:\n",
    "        context_list = self.vector_db_retriever.search_by_text(user_query, k=4)\n",
    "        \n",
    "        context_prompt = \"\"\n",
    "        for context in context_list:\n",
    "            context_prompt += context[0] + \"\\n\"\n",
    "\n",
    "        formatted_system_prompt = rag_prompt.create_message()\n",
    "\n",
    "        formatted_user_prompt = user_prompt.create_message(user_query=user_query, context=context_prompt)\n",
    "        \n",
    "        return {\"response\" : self.llm.run([formatted_user_prompt, formatted_system_prompt]), \"context\" : context_list}"
   ]
  },
  {
   "cell_type": "markdown",
   "metadata": {},
   "source": [
    "#### ❓QUESTION:\n",
    "\n",
    "What changes could you make that would encourage the LLM to have a more well thought out and verbose response?\n",
    "\n",
    "What is this method called?\n",
    "CoT"
   ]
  },
  {
   "cell_type": "code",
   "execution_count": 41,
   "metadata": {},
   "outputs": [],
   "source": [
    "retrieval_augmented_qa_pipeline = RetrievalAugmentedQAPipeline(\n",
    "    vector_db_retriever=vector_db,\n",
    "    llm=chat_openai\n",
    ")"
   ]
  },
  {
   "cell_type": "code",
   "execution_count": 42,
   "metadata": {},
   "outputs": [
    {
     "data": {
      "text/plain": [
       "{'response': 'A Materialized View is a feature used in database systems to improve query performance by pre-aggregating and pre-filtering large datasets, shifting the computational load from query time to ingestion time. This helps in keeping endpoints fast and reducing latency when working with large amounts of data. Materialized Views are recommended to be used when simple queries take too much time, the same aggregations are used in multiple operations, a single query processes a large amount of data, or when data schema needs to be altered for a new use case.',\n",
       " 'context': [(\"aterialized Views shift computational load from query time to ingestion time, so\\nyour endpoints stay fast.\\nWhen should I use Materialized Views?\\nMaterialized Views are used to accomplish 2 main goals:\\n\\x00\\x00 Improve endpoint performance by reducing query speed and scan size\\n 14/04/2024, 21:21 Materialized Views · Tinybird Docs\\nhttps://www.tinybird.co/docs/publish/materialized-views 2/18\\x00\\x00 Simplifying query development by automating common filters andaggregations\\nAs such, consider using a Materialized View if you are experiencing any of the following:\\nA simple query taking too much time\\nYou're using the same aggregations on the same Data Source in multiple Pipes\\nA single query is processing too much data\\nYou need to change the data schema for a new use case\\nHere are a few real-world examples of when a Materialized View makes sense:\\nAggregating Sales per Product: You're ingesting real-time sales events data, but you\\nfrequently need to query the total orders or revenue by product.\\nAggregating\",\n",
       "   0.6599282274162207),\n",
       "  (' when a Materialized View makes sense:\\nAggregating Sales per Product: You\\'re ingesting real-time sales events data, but you\\nfrequently need to query the total orders or revenue by product.\\nAggregating Truck Routes per Day: You need to save the routes that every truck in your\\nfleet has performed each day. You can create a Materialized View with a groupArray, so you\\ncan easily return the routes per truck per day.\\nError Logs: You work with logs but just want to analyze those with the type \"error\". You can\\ncreate a Materialized View to filter by just that type.\\nReal-Time Events: You have a real-time application that doesn\\'t need historical relevance.\\nYou can create a Materialized View to filter only timestamps within the last minute.\\nChanging Indexes: You want to reuse a Data Source, but you have a new use case that\\nrequires you to filter by non-indexed columns. You can create a Materialized View and index\\nby the columns you want to filter.\\nExtract data from geolocation JSON\\x00 Ingested data',\n",
       "   0.6547976677668955),\n",
       "  (\"14/04/2024, 21:21 Materialized Views · Tinybird Docs\\nhttps://www.tinybird.co/docs/publish/materialized-views 1/18Materialized Views\\nMaterialized Views are a great way to improve your endpoint performance.\\nIf you want low latency endpoints on top of millions or billions of rows of data, you often need to\\nfind ways to improve query performance. Complex queries run over large datasets are invariably\\nslow, so you must find ways to recover speed you lose as data size increases. Of course, writing\\nefficient SQL helps. But when you're processing billions of rows, even a simple SUM aggregation\\ncan become unbearably slow.\\nOne such way to improve speed is to use Materialized Views.\\nThe example on this page shows you how to create Materialized Views in Tinybird, using the\\nUI and the CLI, to improve endpoint performance by over 50X.\\nDirectly below, you can read a bit more about why and when to use Materialized Views, or skip\\nstraight to the guide.\\nBefore you get started creating MVs, we strongly r\",\n",
       "   0.6482797163193983),\n",
       "  (\"ndpoint performance by over 50X.\\nDirectly below, you can read a bit more about why and when to use Materialized Views, or skip\\nstraight to the guide.\\nBefore you get started creating MVs, we strongly recommend that you take some time\\nto read through how they work in Tinybird, since Tinybird takes a unique approach to\\nmaterialization that is different than most databases you may have used.\\nWhy use Materialized Views?\\nWhen you're working in real-time, speed is everything. Queries that try to aggregate or filter\\nover large datasets are doomed to suffer unacceptable levels of latency.\\nMaterialized Views give you a way to pre-aggregate and pre-filter large Data Sources\\nincrementally, adding simple logic using SQL to produce a more relevant Data Source with\\nsignificantly fewer rows.\\nPut simply, Materialized Views shift computational load from query time to ingestion time, so\\nyour endpoints stay fast.\\nWhen should I use Materialized Views?\\nMaterialized Views are used to accomplish 2 main goals:\",\n",
       "   0.6409183275794597)]}"
      ]
     },
     "execution_count": 42,
     "metadata": {},
     "output_type": "execute_result"
    }
   ],
   "source": [
    "retrieval_augmented_qa_pipeline.run_pipeline(\"What is a Materialized View?\")"
   ]
  },
  {
   "cell_type": "markdown",
   "metadata": {},
   "source": [
    "## Task 6: Visibility Tooling\n",
    "\n",
    "This is great, but what if we wanted to add some visibility to our pipeline?\n",
    "\n",
    "Let's use Weights and Biases as a visibility tool!\n",
    "\n",
    "The first thing we'll need to do is create a Weights and Biases account and get an API key. \n",
    "\n",
    "You can follow the process outlined [here](https://docs.wandb.ai/quickstart) to do exactly that!"
   ]
  },
  {
   "cell_type": "markdown",
   "metadata": {},
   "source": [
    "Now we can get the Weights and Biases dependency and add our key to our env. to begin!"
   ]
  },
  {
   "cell_type": "code",
   "execution_count": 43,
   "metadata": {},
   "outputs": [
    {
     "name": "stdout",
     "output_type": "stream",
     "text": [
      "Note: you may need to restart the kernel to use updated packages.\n"
     ]
    }
   ],
   "source": [
    "pip install -q -U wandb"
   ]
  },
  {
   "cell_type": "code",
   "execution_count": 44,
   "metadata": {},
   "outputs": [],
   "source": [
    "wandb_key = getpass(\"Weights and Biases API Key: \")\n",
    "os.environ[\"WANDB_API_KEY\"] = wandb_key"
   ]
  },
  {
   "cell_type": "code",
   "execution_count": 45,
   "metadata": {},
   "outputs": [
    {
     "data": {
      "text/html": [
       "Finishing last run (ID:eqe1pap6) before initializing another..."
      ],
      "text/plain": [
       "<IPython.core.display.HTML object>"
      ]
     },
     "metadata": {},
     "output_type": "display_data"
    },
    {
     "data": {
      "text/html": [
       "W&B sync reduced upload amount by 9.7%             "
      ],
      "text/plain": [
       "<IPython.core.display.HTML object>"
      ]
     },
     "metadata": {},
     "output_type": "display_data"
    },
    {
     "data": {
      "text/html": [
       " View run <strong style=\"color:#cdcd00\">summer-flower-3</strong> at: <a href='https://wandb.ai/kikeap/Visibility%20Example/runs/eqe1pap6' target=\"_blank\">https://wandb.ai/kikeap/Visibility%20Example/runs/eqe1pap6</a><br/> View project at: <a href='https://wandb.ai/kikeap/Visibility%20Example' target=\"_blank\">https://wandb.ai/kikeap/Visibility%20Example</a><br/>Synced 5 W&B file(s), 0 media file(s), 2 artifact file(s) and 0 other file(s)"
      ],
      "text/plain": [
       "<IPython.core.display.HTML object>"
      ]
     },
     "metadata": {},
     "output_type": "display_data"
    },
    {
     "data": {
      "text/html": [
       "Find logs at: <code>./wandb/run-20240414_213430-eqe1pap6/logs</code>"
      ],
      "text/plain": [
       "<IPython.core.display.HTML object>"
      ]
     },
     "metadata": {},
     "output_type": "display_data"
    },
    {
     "data": {
      "text/html": [
       "Successfully finished last run (ID:eqe1pap6). Initializing new run:<br/>"
      ],
      "text/plain": [
       "<IPython.core.display.HTML object>"
      ]
     },
     "metadata": {},
     "output_type": "display_data"
    },
    {
     "data": {
      "text/html": [
       "Tracking run with wandb version 0.16.6"
      ],
      "text/plain": [
       "<IPython.core.display.HTML object>"
      ]
     },
     "metadata": {},
     "output_type": "display_data"
    },
    {
     "data": {
      "text/html": [
       "Run data is saved locally in <code>/Users/kike/Documents/ai/Kike-AI-Engineering/Week 2/Day 1/wandb/run-20240414_214601-2cfys9c0</code>"
      ],
      "text/plain": [
       "<IPython.core.display.HTML object>"
      ]
     },
     "metadata": {},
     "output_type": "display_data"
    },
    {
     "data": {
      "text/html": [
       "Syncing run <strong><a href='https://wandb.ai/kikeap/Visibility%20Example/runs/2cfys9c0' target=\"_blank\">floral-star-4</a></strong> to <a href='https://wandb.ai/kikeap/Visibility%20Example' target=\"_blank\">Weights & Biases</a> (<a href='https://wandb.me/run' target=\"_blank\">docs</a>)<br/>"
      ],
      "text/plain": [
       "<IPython.core.display.HTML object>"
      ]
     },
     "metadata": {},
     "output_type": "display_data"
    },
    {
     "data": {
      "text/html": [
       " View project at <a href='https://wandb.ai/kikeap/Visibility%20Example' target=\"_blank\">https://wandb.ai/kikeap/Visibility%20Example</a>"
      ],
      "text/plain": [
       "<IPython.core.display.HTML object>"
      ]
     },
     "metadata": {},
     "output_type": "display_data"
    },
    {
     "data": {
      "text/html": [
       " View run at <a href='https://wandb.ai/kikeap/Visibility%20Example/runs/2cfys9c0' target=\"_blank\">https://wandb.ai/kikeap/Visibility%20Example/runs/2cfys9c0</a>"
      ],
      "text/plain": [
       "<IPython.core.display.HTML object>"
      ]
     },
     "metadata": {},
     "output_type": "display_data"
    },
    {
     "data": {
      "text/html": [
       "<button onClick=\"this.nextSibling.style.display='block';this.style.display='none';\">Display W&B run</button><iframe src='https://wandb.ai/kikeap/Visibility%20Example/runs/2cfys9c0?jupyter=true' style='border:none;width:100%;height:420px;display:none;'></iframe>"
      ],
      "text/plain": [
       "<wandb.sdk.wandb_run.Run at 0x13dac1290>"
      ]
     },
     "execution_count": 45,
     "metadata": {},
     "output_type": "execute_result"
    }
   ],
   "source": [
    "import wandb\n",
    "\n",
    "os.environ[\"WANDB_NOTEBOOK_NAME\"] = \"./Pythonic RAG Assignment.ipynb\"\n",
    "wandb.init(project=\"Visibility Example\")"
   ]
  },
  {
   "cell_type": "markdown",
   "metadata": {},
   "source": [
    "Now we can integrate Weights and Biases into our `RetrievalAugmentedQAPipeline`.\n",
    "\n",
    "```python\n",
    "if self.wandb_project:\n",
    "            root_span = Trace(\n",
    "                name=\"root_span\",\n",
    "                kind=\"llm\",\n",
    "                status_code=status,\n",
    "                status_message=status_message,\n",
    "                start_time_ms=start_time,\n",
    "                end_time_ms=end_time,\n",
    "                metadata={\n",
    "                    \"token_usage\" : token_usage\n",
    "                },\n",
    "                inputs= {\"system_prompt\" : formatted_system_prompt, \"user_prompt\" : formatted_user_prompt},\n",
    "                outputs= {\"response\" : response_text}\n",
    "            )\n",
    "\n",
    "            root_span.log(name=\"openai_trace\")\n",
    "```\n",
    "\n",
    "The main things to consider here are how to populate the various fields to make sure we're tracking useful information. \n",
    "\n",
    "We'll use the `text_only` flag to ensure we can get detailed information about our LLM call!\n",
    "\n",
    "You can check out all the parameters for Weights and Biases `Trace` [here](https://github.com/wandb/wandb/blob/653015a014281f45770aaf43627f64d9c4f04a32/wandb/sdk/data_types/trace_tree.py#L166)"
   ]
  },
  {
   "cell_type": "code",
   "execution_count": 46,
   "metadata": {},
   "outputs": [],
   "source": [
    "import datetime\n",
    "from wandb.sdk.data_types.trace_tree import Trace\n",
    "\n",
    "class RetrievalAugmentedGenerationPipeline:\n",
    "    def __init__(self, llm: ChatOpenAI(), vector_db_retriever: VectorDatabase, wandb_project = None) -> None:\n",
    "        self.llm = llm\n",
    "        self.vector_db_retriever = vector_db_retriever\n",
    "        self.wandb_project = wandb_project\n",
    "\n",
    "    def run_pipeline(self, user_query: str) -> str:\n",
    "        context_list = self.vector_db_retriever.search_by_text(user_query, k=4)\n",
    "        \n",
    "        context_prompt = \"\"\n",
    "        for context in context_list:\n",
    "            context_prompt += context[0] + \"\\n\"\n",
    "\n",
    "        formatted_system_prompt = rag_prompt.create_message()\n",
    "\n",
    "        formatted_user_prompt = user_prompt.create_message(user_query=user_query, context=context_prompt)\n",
    "\n",
    "        \n",
    "        start_time = datetime.datetime.now().timestamp() * 1000\n",
    "\n",
    "        try:\n",
    "            openai_response = self.llm.run([formatted_system_prompt, formatted_user_prompt], text_only=False)\n",
    "            end_time = datetime.datetime.now().timestamp() * 1000\n",
    "            status = \"success\"\n",
    "            status_message = (None, )\n",
    "            response_text = openai_response.choices[0].message.content\n",
    "            token_usage = dict(openai_response.usage)\n",
    "            model = openai_response.model\n",
    "\n",
    "        except Exception as e:\n",
    "            end_time = datetime.datetime.now().timestamp() * 1000\n",
    "            status = \"error\"\n",
    "            status_message = str(e)\n",
    "            response_text = \"\"\n",
    "            token_usage = {}\n",
    "            model = \"\"\n",
    "\n",
    "        if self.wandb_project:\n",
    "            root_span = Trace(\n",
    "                name=\"root_span\",\n",
    "                kind=\"llm\",\n",
    "                status_code=status,\n",
    "                status_message=status_message,\n",
    "                start_time_ms=start_time,\n",
    "                end_time_ms=end_time,\n",
    "                metadata={\n",
    "                    \"token_usage\" : token_usage,\n",
    "                    \"model_name\" : model\n",
    "                },\n",
    "                inputs= {\"system_prompt\" : formatted_system_prompt, \"user_prompt\" : formatted_user_prompt},\n",
    "                outputs= {\"response\" : response_text}\n",
    "            )\n",
    "\n",
    "            root_span.log(name=\"openai_trace\")\n",
    "        \n",
    "        return {\"response\" : self.llm.run([formatted_user_prompt, formatted_system_prompt]), \"context\" : context_list} if response_text else \"We ran into an error. Please try again later. Full Error Message: \" + status_message"
   ]
  },
  {
   "cell_type": "code",
   "execution_count": 47,
   "metadata": {},
   "outputs": [],
   "source": [
    "retrieval_augmented_qa_pipeline = RetrievalAugmentedGenerationPipeline(\n",
    "    vector_db_retriever=vector_db,\n",
    "    llm=chat_openai,\n",
    "    wandb_project=\"LLM Visibility Example\"\n",
    ")"
   ]
  },
  {
   "cell_type": "code",
   "execution_count": 48,
   "metadata": {},
   "outputs": [
    {
     "data": {
      "text/plain": [
       "{'response': \"I don't know.\",\n",
       " 'context': [('AD_NOT_OK\\nvendorid\\nInt32tpep_pickup_datetime\\nDateTimetpep_dropoff_datetime\\nDateTimepassenger_count\\nInt32\\n12017-01-01 00\\x0037\\x00442017-01-01 00\\x0037\\x0044\\n22017-01-01 00\\x0048\\x00232017-01-01 00\\x0048\\x0027\\n22017-01-01 02\\x0012\\x00572017-01-01 02\\x0013\\x0000\\n22017-01-01 02\\x0033\\x00592017-01-01 02\\x0035\\x0008\\n22017-01-01 02\\x0019\\x00112017-01-01 02\\x0019\\x0024\\n12017010102\\x0029\\x00132017010102\\x0029\\x0013\\nOnce we have the data sorted by \"\"passenger_count\"\", we filter it by date: 14/04/2024, 21:44 SQL best practices · Tinybird Docs\\nhttps://www.tinybird.co/docs/query/sql-best-practices 6/17\\nThis approach takes around 5\\x0010 ms, the number of scanned rows is 26.73k and the size of data\\nis 1.98MB.\\nFor the second approach, we are sorting the data by date:\\nSELECT * FROM nyc_taxi\\nORDER BY tpep_pickup_datetime ASC\\n1.21MB, 16.38k x 17 (6.41ms)NODE RULE3_ORDERED_BY_DATE_OK\\nvendorid\\nInt32tpep_pickup_datetime\\nDateTimetpep_dropoff_datetime\\nDateTimepassenger_count\\nInt32\\n22017-01-01 00\\x0000\\x00002017-01-01 00\\x0000\\x0000\\n22017-01-01 00\\x0000\\x00022017-01-01 00\\x0039\\x0022\\n12017-01-01 00\\x0000\\x00022',\n",
       "   0.031267756251927986),\n",
       "  (\"t-practices 2/17\\nSELECT 'do not save what you don\\\\'t need!'  AS first_rule\\n1.00B, 1.00 x 1 (0.75ms)NODE RULE 1\\nfirst_rule\\nString\\ndo not save what you don't need!\\nRule 2: The second best data is the one you don't read\\nTo avoid reading data that you don't need, you should apply filters as soon as possible.\\nFor this example, let's suppose we want a list of the trips whose distance is greater than 10\\nmiles and that took place between '2017\\x0001\\x0031 14\\x0000\\x0000' and '2017\\x0001\\x0031 15\\x0000\\x0000'. Additionally,\\nwe want to get those trips ordered by date.\\nLet's see the difference between applying the filters at the end or at the beginning of the pipe.\\nFirst, let's start the first approach by ordering all the data by date: 14/04/2024, 21:44 SQL best practices · Tinybird Docs\\nhttps://www.tinybird.co/docs/query/sql-best-practices 3/17\\nSELECT *\\nFROM nyc_taxi\\nORDER BY tpep_pickup_datetime ASC\\n1.21MB, 16.38k x 17 (13.73ms)NODE RULE2_DATA_READ_NOT_OK\\nvendorid\\nInt32tpep_pickup_datetime\\nDateTimetpep_dropoff_datetim\",\n",
       "   0.030008507960030878),\n",
       "  (\" № 3 ⟶ Sequential reads are 100x faster.\\nRule № 4 ⟶ The less data you process (after read), the better.\\nRule № 5 ⟶ Complex operations later in the processing pipeline.\\nLet's go one by one, analyzing the improvement of the performance after the implementation of\\neach rule. We will use the already-so-well-known NYC Taxi Trip dataset. You can get a sample\\nhere and import it directly creating a new Data Source from your dashboard.\\nRule 1: The best data is the one you don't write\\nThis rule seems obvious but it's not always followed. There is no reason to save data that you\\ndon't need: it will impact the memory needed (and the money!\\x00 and the queries will take more\\ntime, so it only has disadvantages.\\n 14/04/2024, 21:44 SQL best practices · Tinybird Docs\\nhttps://www.tinybird.co/docs/query/sql-best-practices 2/17\\nSELECT 'do not save what you don\\\\'t need!'  AS first_rule\\n1.00B, 1.00 x 1 (0.75ms)NODE RULE 1\\nfirst_rule\\nString\\ndo not save what you don't need!\\nRule 2: The second best data is the on\",\n",
       "   0.02459781863148959),\n",
       "  (\"ql-best-practices 3/17\\nSELECT *\\nFROM nyc_taxi\\nORDER BY tpep_pickup_datetime ASC\\n1.21MB, 16.38k x 17 (13.73ms)NODE RULE2_DATA_READ_NOT_OK\\nvendorid\\nInt32tpep_pickup_datetime\\nDateTimetpep_dropoff_datetime\\nDateTimepassenger_count\\nInt32\\n22017-01-01 00\\x0000\\x00002017-01-01 00\\x0000\\x0000\\n22017-01-01 00\\x0000\\x00022017-01-01 00\\x0039\\x0022\\n12017-01-01 00\\x0000\\x00022017-01-01 00\\x0003\\x0050\\n12017-01-01 00\\x0000\\x00032017-01-01 00\\x0006\\x0058\\n12017-01-01 00\\x0000\\x00052017-01-01 00\\x0008\\x0033\\n22017010100\\x0000\\x00052017010100\\x0015\\x0036\\nOnce the data is sorted, we filter it:\\nThis first approach takes around 30\\x0060 ms, adding the time of both steps.\\nPay attention to the statistics in the first step: number of scanned rows \\x00139.26k) and the size of\\ndata \\x0010.31MB\\x00 vs statistics in the second one: number of scanned rows \\x0024.58k) and the size of 14/04/2024, 21:44 SQL best practices · Tinybird Docs\\nhttps://www.tinybird.co/docs/query/sql-best-practices 4/17data \\x001.82MB\\x00. Why would we scan 139.26k rows in the first place if we just really need to scan\\n24.58k?\\nIt's impor\",\n",
       "   0.018816128217610553)]}"
      ]
     },
     "execution_count": 48,
     "metadata": {},
     "output_type": "execute_result"
    }
   ],
   "source": [
    "retrieval_augmented_qa_pipeline.run_pipeline(\"Who is Batman?\")"
   ]
  },
  {
   "cell_type": "code",
   "execution_count": 49,
   "metadata": {},
   "outputs": [
    {
     "data": {
      "text/plain": [
       "{'response': 'A Materialized View is a feature used to improve endpoint performance by pre-aggregating and pre-filtering large datasets. It shifts computational load from query time to ingestion time, ensuring that endpoints remain fast. Materialized Views are particularly useful when dealing with complex queries over large datasets that require frequent aggregations or filtering. They help simplify query development by automating common filters and aggregations, ultimately leading to faster query response times.',\n",
       " 'context': [(\"aterialized Views shift computational load from query time to ingestion time, so\\nyour endpoints stay fast.\\nWhen should I use Materialized Views?\\nMaterialized Views are used to accomplish 2 main goals:\\n\\x00\\x00 Improve endpoint performance by reducing query speed and scan size\\n 14/04/2024, 21:21 Materialized Views · Tinybird Docs\\nhttps://www.tinybird.co/docs/publish/materialized-views 2/18\\x00\\x00 Simplifying query development by automating common filters andaggregations\\nAs such, consider using a Materialized View if you are experiencing any of the following:\\nA simple query taking too much time\\nYou're using the same aggregations on the same Data Source in multiple Pipes\\nA single query is processing too much data\\nYou need to change the data schema for a new use case\\nHere are a few real-world examples of when a Materialized View makes sense:\\nAggregating Sales per Product: You're ingesting real-time sales events data, but you\\nfrequently need to query the total orders or revenue by product.\\nAggregating\",\n",
       "   0.6599282274162207),\n",
       "  (' when a Materialized View makes sense:\\nAggregating Sales per Product: You\\'re ingesting real-time sales events data, but you\\nfrequently need to query the total orders or revenue by product.\\nAggregating Truck Routes per Day: You need to save the routes that every truck in your\\nfleet has performed each day. You can create a Materialized View with a groupArray, so you\\ncan easily return the routes per truck per day.\\nError Logs: You work with logs but just want to analyze those with the type \"error\". You can\\ncreate a Materialized View to filter by just that type.\\nReal-Time Events: You have a real-time application that doesn\\'t need historical relevance.\\nYou can create a Materialized View to filter only timestamps within the last minute.\\nChanging Indexes: You want to reuse a Data Source, but you have a new use case that\\nrequires you to filter by non-indexed columns. You can create a Materialized View and index\\nby the columns you want to filter.\\nExtract data from geolocation JSON\\x00 Ingested data',\n",
       "   0.6547976677668955),\n",
       "  (\"14/04/2024, 21:21 Materialized Views · Tinybird Docs\\nhttps://www.tinybird.co/docs/publish/materialized-views 1/18Materialized Views\\nMaterialized Views are a great way to improve your endpoint performance.\\nIf you want low latency endpoints on top of millions or billions of rows of data, you often need to\\nfind ways to improve query performance. Complex queries run over large datasets are invariably\\nslow, so you must find ways to recover speed you lose as data size increases. Of course, writing\\nefficient SQL helps. But when you're processing billions of rows, even a simple SUM aggregation\\ncan become unbearably slow.\\nOne such way to improve speed is to use Materialized Views.\\nThe example on this page shows you how to create Materialized Views in Tinybird, using the\\nUI and the CLI, to improve endpoint performance by over 50X.\\nDirectly below, you can read a bit more about why and when to use Materialized Views, or skip\\nstraight to the guide.\\nBefore you get started creating MVs, we strongly r\",\n",
       "   0.6482797163193983),\n",
       "  (\"ndpoint performance by over 50X.\\nDirectly below, you can read a bit more about why and when to use Materialized Views, or skip\\nstraight to the guide.\\nBefore you get started creating MVs, we strongly recommend that you take some time\\nto read through how they work in Tinybird, since Tinybird takes a unique approach to\\nmaterialization that is different than most databases you may have used.\\nWhy use Materialized Views?\\nWhen you're working in real-time, speed is everything. Queries that try to aggregate or filter\\nover large datasets are doomed to suffer unacceptable levels of latency.\\nMaterialized Views give you a way to pre-aggregate and pre-filter large Data Sources\\nincrementally, adding simple logic using SQL to produce a more relevant Data Source with\\nsignificantly fewer rows.\\nPut simply, Materialized Views shift computational load from query time to ingestion time, so\\nyour endpoints stay fast.\\nWhen should I use Materialized Views?\\nMaterialized Views are used to accomplish 2 main goals:\",\n",
       "   0.6409183275794597)]}"
      ]
     },
     "execution_count": 49,
     "metadata": {},
     "output_type": "execute_result"
    }
   ],
   "source": [
    "retrieval_augmented_qa_pipeline.run_pipeline(\"What is a Materialized View?\")"
   ]
  },
  {
   "cell_type": "code",
   "execution_count": 51,
   "metadata": {},
   "outputs": [
    {
     "data": {
      "text/plain": [
       "{'response': 'Populates can be triggered from the CLI by using the `--populate` flag when pushing pipes and datasources. When pushing a pipe using the CLI, you can include the `--populate` flag to run the transformation as a job and populate the Materialized View. Additionally, the populate process can be forced using the `--force` command alongside the `--populate` flag. This allows you to manage the population of Materialized Views from the command line interface.',\n",
       " 'context': [('it reads from the new Materialized View.\\n3. Create a Pull Request\\nBump your VERSION, increasing the major version (e.g. 0.0.0 to 1.0.0\\x00.\\nCustomize the post-deployment actions to run a populate, for example:\\nFrom the UI or CLI, commit and create a Pull Request in your Git provider that includes all of\\nthese changes.\\n4. Merge the Pull Request and Deploy\\nThe automated CI tests will execute on your PR.\\nOnce all tests have passed, merge the PR. This will create a new Preview Release in your\\nWorkspace.\\n5. Promote Preview Release to Live\\nUse the Preview Release to validate your changes.\\nAfter checking that everything is OK, promote the Preview Release to Live via the UI, CLI or CD.\\nYou can find a detailed example of implementing this process [in this GitHub repo]\\n(https://github.com/tinybirdco/use-case-examples/tree/maintb --semver  <VERSION> pipe populate <PIPE_NAME> --node <NODE> --waitPOPULATE THE MATERIALIZED VIEW\\n 14/04/2024, 21:21 Materialized Views · Tinybird Docs\\nhttps://www.tinybird.',\n",
       "   0.43674803809734875),\n",
       "  (\"the mode State, while\\nwhen getting the calculation it makes use of Merge.\\nOnce it's done, let's push everything to our Tinybird account:\\ntb push datasources/top_products_view.datasource --prefix  dev\\ntb push pipes/top_product_per_day.pipe --prefix  dev --populate\\ntb push endpoints/top_products_endpoint.pipe --prefix  devPUSH YOUR PIPES AND DATASOURCES USING THE CLI\\nNote that when pushing the top_product_per_day.pipe  we use the --populate flag. This\\ncauses the transformation to be run in a job, and the Materialized View top_products_view  to\\nbe populated.\\nOf course, you can repopulate Materialized Views at any moment:\\ntb push pipes/top_product_per_day.pipe --prefix  dev --populate  --forceCOMMAND TO FORCE POPULATE THE MATERIALIZED VIEW\\nA practical example using version control 14/04/2024, 21:21 Materialized Views · Tinybird Docs\\nhttps://www.tinybird.co/docs/publish/materialized-views 14/18When using version control, you can create a new Materialized View in a Branch and then test\\nthe p\",\n",
       "   0.42203220677749365),\n",
       "  (\"he populate is executed as a separate job\\nthat will go partition by partition moving the existing data into the Materialized View. At the\\nsame time, the Materialized View is already automatically recieving new rows. Thus, there may\\nbe an overlap where the populate job moves a partition that includes rows that were already\\ningested into the Materialized View.\\nThere are two strategies to handle this scenario, here and here.\\nTroubleshooting\\nUse the same alias in SELECT and GROUP BY\\nIf you use an alias in the SELECT clause, you must re-use the same alias in the GROUP BY.\\nTake the following query as an example: 14/04/2024, 21:21 Materialized Views · Tinybird Docs\\nhttps://www.tinybird.co/docs/publish/materialized-views 16/18The query above will result in the following error:\\nColumn 'value' is present in the GROUP BY but not in the SELECT clause\\nTo fix this, use the same alias in the GROUP BY:\\nDon't use nested GROUP BYs\\nAvoid using a nested GROUP BY in the Pipe that creates a MaterializedView\",\n",
       "   0.3766248473704322),\n",
       "  ('ingMergeTree ),\\nwhich can handle data aggregations in this way.\\nMaterialized Views generated using JOIN clauses are tricky. The resulting Data Source will be\\nonly automatically updated if and when a new operation is performed over the Data Source in\\nthe FROM.\\nYou cannot create Materialized Views that depend on the UNION of several Data Sources.\\nOperations such as Window functions, ORDER BY, Neighbor, DISTINCT should not be used in\\nMaterialized Views.\\nA note on Populates\\nAs described in the Master Materialized Views guide, populates are the process to move the\\ndata that was already in the original Data Source through to the new Materialized View.\\nIf you have a continuous (streaming) ingestion into the original Data Source, the populate may\\nproduce duplicated rows in the Materialized View. The populate is executed as a separate job\\nthat will go partition by partition moving the existing data into the Materialized View. At the\\nsame time, the Materialized View is already automatically reci',\n",
       "   0.34721443715934014)]}"
      ]
     },
     "execution_count": 51,
     "metadata": {},
     "output_type": "execute_result"
    }
   ],
   "source": [
    "retrieval_augmented_qa_pipeline.run_pipeline(\"How are populates triggered from the CLI?\")"
   ]
  },
  {
   "cell_type": "markdown",
   "metadata": {},
   "source": [
    "Navigate to the Weights and Biases \"run\" link to see how your LLM is performing!\n",
    "\n",
    "```\n",
    "View run at YOUR LINK HERE\n",
    "```"
   ]
  },
  {
   "cell_type": "markdown",
   "metadata": {},
   "source": [
    "#### ❓QUESTION:\n",
    "\n",
    "What is the `model_name` from the WandB `root_span` trace?\n",
    "gpt-3.5-turbo-0125\n"
   ]
  },
  {
   "cell_type": "markdown",
   "metadata": {},
   "source": [
    "## Task 7: RAG Evaluation Using GPT-4\n",
    "\n"
   ]
  },
  {
   "cell_type": "code",
   "execution_count": 52,
   "metadata": {},
   "outputs": [
    {
     "name": "stdout",
     "output_type": "stream",
     "text": [
      "A Materialized View is a pre-aggregated or pre-filtered data set that is created in advance and stored in a database to improve query performance. It shifts the computational load from query time to ingestion time, allowing endpoints to remain fast by reducing the query speed and scan size. Materialized Views are typically used when a simple query is taking too much time, the same aggregations are used in multiple pipes, a query is processing too much data, or when there is a need to change the data schema for a new use case.\n"
     ]
    },
    {
     "data": {
      "text/plain": [
       "'{\"clarity\" : \"9\", \"faithfulness\" : \"10\", \"correctness\" : \"10\"}'"
      ]
     },
     "execution_count": 52,
     "metadata": {},
     "output_type": "execute_result"
    }
   ],
   "source": [
    "query = \"What is a Materialized View?\"\n",
    "\n",
    "response = retrieval_augmented_qa_pipeline.run_pipeline(query)\n",
    "\n",
    "print(response[\"response\"])\n",
    "\n",
    "evaluator_system_template = \"\"\"You are an expert in analyzing the quality of a response.\n",
    "\n",
    "You should be hyper-critical.\n",
    "\n",
    "Provide scores (out of 10) for the following attributes:\n",
    "\n",
    "1. Clarity - how clear is the response\n",
    "2. Faithfulness - how related to the original query is the response and the provided context\n",
    "3. Correctness - was the response correct?\n",
    "\n",
    "Please take your time, and think through each item step-by-step, when you are done - please provide your response in the following JSON format:\n",
    "\n",
    "{\"clarity\" : \"score_out_of_10\", \"faithfulness\" : \"score_out_of_10\", \"correctness\" : \"score_out_of_10\"}\"\"\"\n",
    "\n",
    "evaluation_template = \"\"\"Query: {input}\n",
    "Context: {context}\n",
    "Response: {response}\"\"\"\n",
    "\n",
    "try:\n",
    "    chat_openai = ChatOpenAI(model_name=\"gpt-4-turbo\")\n",
    "except:\n",
    "    chat_openai = ChatOpenAI()\n",
    "\n",
    "evaluator_system_prompt = SystemRolePrompt(evaluator_system_template)\n",
    "evaluation_prompt = UserRolePrompt(evaluation_template)\n",
    "\n",
    "messages = [\n",
    "    evaluator_system_prompt.create_message(format=False),\n",
    "    evaluation_prompt.create_message(\n",
    "        input=query,\n",
    "        context=\"\\n\".join([context[0] for context in response[\"context\"]]),\n",
    "        response=response[\"response\"]\n",
    "    ),\n",
    "]\n",
    "\n",
    "chat_openai.run(messages, response_format={\"type\" : \"json_object\"})"
   ]
  },
  {
   "cell_type": "markdown",
   "metadata": {},
   "source": [
    "# Conclusion\n",
    "\n",
    "In this notebook, we've gone through the steps required to create your own simple RAQA application!\n",
    "\n",
    "Please feel free to extend this as much as you'd like. "
   ]
  },
  {
   "cell_type": "code",
   "execution_count": 53,
   "metadata": {},
   "outputs": [
    {
     "data": {
      "text/html": [
       " View run <strong style=\"color:#cdcd00\">floral-star-4</strong> at: <a href='https://wandb.ai/kikeap/Visibility%20Example/runs/2cfys9c0' target=\"_blank\">https://wandb.ai/kikeap/Visibility%20Example/runs/2cfys9c0</a><br/> View project at: <a href='https://wandb.ai/kikeap/Visibility%20Example' target=\"_blank\">https://wandb.ai/kikeap/Visibility%20Example</a><br/>Synced 5 W&B file(s), 0 media file(s), 0 artifact file(s) and 0 other file(s)"
      ],
      "text/plain": [
       "<IPython.core.display.HTML object>"
      ]
     },
     "metadata": {},
     "output_type": "display_data"
    },
    {
     "data": {
      "text/html": [
       "Find logs at: <code>./wandb/run-20240414_214601-2cfys9c0/logs</code>"
      ],
      "text/plain": [
       "<IPython.core.display.HTML object>"
      ]
     },
     "metadata": {},
     "output_type": "display_data"
    }
   ],
   "source": [
    "wandb.finish()"
   ]
  }
 ],
 "metadata": {
  "kernelspec": {
   "display_name": "buildyourownlangchain",
   "language": "python",
   "name": "python3"
  },
  "language_info": {
   "codemirror_mode": {
    "name": "ipython",
    "version": 3
   },
   "file_extension": ".py",
   "mimetype": "text/x-python",
   "name": "python",
   "nbconvert_exporter": "python",
   "pygments_lexer": "ipython3",
   "version": "3.11.8"
  },
  "orig_nbformat": 4
 },
 "nbformat": 4,
 "nbformat_minor": 2
}
